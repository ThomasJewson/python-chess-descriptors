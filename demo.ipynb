{
 "cells": [
  {
   "cell_type": "markdown",
   "metadata": {},
   "source": [
    "# Demo of `python-chess-descriptors`"
   ]
  },
  {
   "cell_type": "code",
   "execution_count": 19,
   "metadata": {},
   "outputs": [],
   "source": [
    "import pandas as pd\n",
    "import descriptors as desc"
   ]
  },
  {
   "cell_type": "markdown",
   "metadata": {},
   "source": [
    "The repo comes supplied with a demostration dataset."
   ]
  },
  {
   "cell_type": "code",
   "execution_count": 20,
   "metadata": {},
   "outputs": [
    {
     "data": {
      "text/html": [
       "<div>\n",
       "<style scoped>\n",
       "    .dataframe tbody tr th:only-of-type {\n",
       "        vertical-align: middle;\n",
       "    }\n",
       "\n",
       "    .dataframe tbody tr th {\n",
       "        vertical-align: top;\n",
       "    }\n",
       "\n",
       "    .dataframe thead th {\n",
       "        text-align: right;\n",
       "    }\n",
       "</style>\n",
       "<table border=\"1\" class=\"dataframe\">\n",
       "  <thead>\n",
       "    <tr style=\"text-align: right;\">\n",
       "      <th></th>\n",
       "      <th>moves</th>\n",
       "      <th>outcome</th>\n",
       "      <th>is_white</th>\n",
       "    </tr>\n",
       "  </thead>\n",
       "  <tbody>\n",
       "    <tr>\n",
       "      <th>0</th>\n",
       "      <td>d4 d6 e4 e6 Nc3 Ne7 Nf3 g6 Bg5 Bg7 Qd2 h6 Be3 ...</td>\n",
       "      <td>-1</td>\n",
       "      <td>False</td>\n",
       "    </tr>\n",
       "    <tr>\n",
       "      <th>1</th>\n",
       "      <td>Nh3 d5 g3 Bf5 Bg2 e6 e3 Nf6 d3 Bg4 f3 Bxh3 Bxh...</td>\n",
       "      <td>1</td>\n",
       "      <td>False</td>\n",
       "    </tr>\n",
       "    <tr>\n",
       "      <th>2</th>\n",
       "      <td>d4 Nf6 c4 e6 Nc3 c5 d5 d6 e4 g6 Nge2 Bg7 Ng3 h...</td>\n",
       "      <td>-1</td>\n",
       "      <td>False</td>\n",
       "    </tr>\n",
       "  </tbody>\n",
       "</table>\n",
       "</div>"
      ],
      "text/plain": [
       "                                               moves  outcome  is_white\n",
       "0  d4 d6 e4 e6 Nc3 Ne7 Nf3 g6 Bg5 Bg7 Qd2 h6 Be3 ...       -1     False\n",
       "1  Nh3 d5 g3 Bf5 Bg2 e6 e3 Nf6 d3 Bg4 f3 Bxh3 Bxh...        1     False\n",
       "2  d4 Nf6 c4 e6 Nc3 c5 d5 d6 e4 g6 Nge2 Bg7 Ng3 h...       -1     False"
      ]
     },
     "execution_count": 20,
     "metadata": {},
     "output_type": "execute_result"
    }
   ],
   "source": [
    "demo = pd.read_csv(R\"demo_dataset.csv\")\n",
    "demo.head(3)"
   ]
  },
  {
   "cell_type": "markdown",
   "metadata": {},
   "source": [
    "Of course, your dataset can look very different. \n",
    "\n",
    "Primarily, for this descriptor set to work you will need the game stored as a string of algebraic notation moves. Note, this string does not contain numbers referring to the move number, eg: `\"1. e4 e5 2. ...\"`.\n",
    "\n",
    "If your games are within this form, they can be stripped with regex."
   ]
  },
  {
   "cell_type": "code",
   "execution_count": 23,
   "metadata": {},
   "outputs": [],
   "source": [
    "# Just a single init argument for now.\n",
    "mv = desc.move_descriptors(opening_key_loc=\"opening_dict.json\")"
   ]
  },
  {
   "cell_type": "markdown",
   "metadata": {},
   "source": [
    "The descriptors can be calculated easily in `pandas` using the method below:"
   ]
  },
  {
   "cell_type": "code",
   "execution_count": 22,
   "metadata": {},
   "outputs": [
    {
     "data": {
      "text/html": [
       "<div>\n",
       "<style scoped>\n",
       "    .dataframe tbody tr th:only-of-type {\n",
       "        vertical-align: middle;\n",
       "    }\n",
       "\n",
       "    .dataframe tbody tr th {\n",
       "        vertical-align: top;\n",
       "    }\n",
       "\n",
       "    .dataframe thead th {\n",
       "        text-align: right;\n",
       "    }\n",
       "</style>\n",
       "<table border=\"1\" class=\"dataframe\">\n",
       "  <thead>\n",
       "    <tr style=\"text-align: right;\">\n",
       "      <th></th>\n",
       "      <th>moves</th>\n",
       "      <th>outcome</th>\n",
       "      <th>is_white</th>\n",
       "      <th>both_castled</th>\n",
       "      <th>first_move</th>\n",
       "      <th>game_length</th>\n",
       "      <th>num_of_turns_queens_on_board</th>\n",
       "      <th>opposite_castle</th>\n",
       "      <th>sum_OO</th>\n",
       "      <th>sum_OOO</th>\n",
       "      <th>eco_code</th>\n",
       "      <th>opening_name</th>\n",
       "      <th>opening_type</th>\n",
       "      <th>opening_moves</th>\n",
       "    </tr>\n",
       "  </thead>\n",
       "  <tbody>\n",
       "    <tr>\n",
       "      <th>0</th>\n",
       "      <td>d4 d6 e4 e6 Nc3 Ne7 Nf3 g6 Bg5 Bg7 Qd2 h6 Be3 ...</td>\n",
       "      <td>-1</td>\n",
       "      <td>False</td>\n",
       "      <td>True</td>\n",
       "      <td>d4</td>\n",
       "      <td>97</td>\n",
       "      <td>80</td>\n",
       "      <td>True</td>\n",
       "      <td>0</td>\n",
       "      <td>1</td>\n",
       "      <td>A40-A41</td>\n",
       "      <td>Queen's pawn</td>\n",
       "      <td>Flank</td>\n",
       "      <td>d4</td>\n",
       "    </tr>\n",
       "    <tr>\n",
       "      <th>1</th>\n",
       "      <td>Nh3 d5 g3 Bf5 Bg2 e6 e3 Nf6 d3 Bg4 f3 Bxh3 Bxh...</td>\n",
       "      <td>1</td>\n",
       "      <td>False</td>\n",
       "      <td>False</td>\n",
       "      <td>Nh3</td>\n",
       "      <td>118</td>\n",
       "      <td>54</td>\n",
       "      <td>False</td>\n",
       "      <td>0</td>\n",
       "      <td>0</td>\n",
       "      <td>A00</td>\n",
       "      <td>Amar gambit</td>\n",
       "      <td>Flank</td>\n",
       "      <td>Nh3 d5 g3 e5 f4 Bxh3 Bxh3 exf4</td>\n",
       "    </tr>\n",
       "  </tbody>\n",
       "</table>\n",
       "</div>"
      ],
      "text/plain": [
       "                                               moves  outcome  is_white  \\\n",
       "0  d4 d6 e4 e6 Nc3 Ne7 Nf3 g6 Bg5 Bg7 Qd2 h6 Be3 ...       -1     False   \n",
       "1  Nh3 d5 g3 Bf5 Bg2 e6 e3 Nf6 d3 Bg4 f3 Bxh3 Bxh...        1     False   \n",
       "\n",
       "   both_castled first_move  game_length  num_of_turns_queens_on_board  \\\n",
       "0          True         d4           97                            80   \n",
       "1         False        Nh3          118                            54   \n",
       "\n",
       "   opposite_castle  sum_OO  sum_OOO eco_code  opening_name opening_type  \\\n",
       "0             True       0        1  A40-A41  Queen's pawn        Flank   \n",
       "1            False       0        0      A00   Amar gambit        Flank   \n",
       "\n",
       "                    opening_moves  \n",
       "0                              d4  \n",
       "1  Nh3 d5 g3 e5 f4 Bxh3 Bxh3 exf4  "
      ]
     },
     "execution_count": 22,
     "metadata": {},
     "output_type": "execute_result"
    }
   ],
   "source": [
    "demo_calc = demo.copy()\n",
    "\n",
    "demo_calc[\"both_castled\"] = demo_calc[\"moves\"].apply(lambda moves: mv.both_castled(moves))\n",
    "\n",
    "demo_calc[\"first_move\"] = demo_calc[\"moves\"].apply(lambda moves: mv.first_move(moves))\n",
    "\n",
    "demo_calc[\"game_length\"] = demo_calc[\"moves\"].apply(lambda moves: mv.game_length(moves))\n",
    "\n",
    "demo_calc[\"num_of_turns_queens_on_board\"] = demo_calc[\"moves\"].apply(lambda moves: mv.num_of_turns_queens_on_board(moves))\n",
    "\n",
    "demo_calc[\"opposite_castle\"] = demo_calc[\"moves\"].apply(lambda moves: mv.opposite_castle(moves))\n",
    "\n",
    "demo_calc[\"sum_OO\"] = demo_calc[\"moves\"].apply(lambda moves: mv.sum_OO(moves))\n",
    "\n",
    "demo_calc[\"sum_OOO\"] = demo_calc[\"moves\"].apply(lambda moves: mv.sum_OOO(moves))\n",
    "\n",
    "# This needs a concat as several columns are outputted from mv.get_opening(moves)\n",
    "demo_calc = pd.concat([demo_calc, demo_calc[\"moves\"].apply(lambda moves: mv.get_opening(moves))], axis=1)\n",
    "\n",
    "demo_calc.head(2)"
   ]
  }
 ],
 "metadata": {
  "interpreter": {
   "hash": "2ba3b998f5ed3a4da69a17dee566f1fabffb67d5f56e2740426903f1a59a1f28"
  },
  "kernelspec": {
   "display_name": "Python 3.7.4 64-bit ('base': conda)",
   "language": "python",
   "name": "python3"
  },
  "language_info": {
   "codemirror_mode": {
    "name": "ipython",
    "version": 3
   },
   "file_extension": ".py",
   "mimetype": "text/x-python",
   "name": "python",
   "nbconvert_exporter": "python",
   "pygments_lexer": "ipython3",
   "version": "3.7.4"
  },
  "orig_nbformat": 4
 },
 "nbformat": 4,
 "nbformat_minor": 2
}
